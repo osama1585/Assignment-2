{
 "cells": [
  {
   "cell_type": "markdown",
   "id": "00f55292-1142-4da7-82fd-be16b07a36d2",
   "metadata": {},
   "source": [
    "Assignment-2"
   ]
  },
  {
   "cell_type": "markdown",
   "id": "b88cdb10-4c5f-4bf0-be0e-bc4a72a73836",
   "metadata": {},
   "source": [
    "Q1. How do you comment code in Python? What are the different types of comments?"
   ]
  },
  {
   "cell_type": "markdown",
   "id": "d5cbe1df-6ede-453f-93a2-8a2649a65119",
   "metadata": {},
   "source": [
    "Ans- (1) Single line comments"
   ]
  },
  {
   "cell_type": "code",
   "execution_count": 30,
   "id": "1f2bed7a-d992-45d4-872f-1051b58d96a6",
   "metadata": {},
   "outputs": [
    {
     "name": "stdout",
     "output_type": "stream",
     "text": [
      "Mohd Osama\n"
     ]
    }
   ],
   "source": [
    "# Hello , create a variable\n",
    "name = 'Mohd Osama'\n",
    "\n",
    "# print this value\n",
    "print(name)\n"
   ]
  },
  {
   "cell_type": "markdown",
   "id": "a69ddeef-9b1f-445d-8445-88d88de13f73",
   "metadata": {},
   "source": [
    "(2)Multi-line comment"
   ]
  },
  {
   "cell_type": "code",
   "execution_count": 31,
   "id": "56bce160-3d73-440b-8a03-495eecd67da1",
   "metadata": {},
   "outputs": [
    {
     "data": {
      "text/plain": [
       "'this is a list\\nfor those who failed\\nin exam since two years\\n'"
      ]
     },
     "execution_count": 31,
     "metadata": {},
     "output_type": "execute_result"
    }
   ],
   "source": [
    "'''this is a list\n",
    "for those who failed\n",
    "in exam since two years\n",
    "'''"
   ]
  },
  {
   "cell_type": "markdown",
   "id": "bb729c95-42d9-4e3a-9c41-486c82a0ef5c",
   "metadata": {},
   "source": [
    "Q2. What are variables in Python? How do you declare and assign values to variables?"
   ]
  },
  {
   "cell_type": "markdown",
   "id": "031e9bc5-9a3e-4d6d-9652-8f27f7555d15",
   "metadata": {},
   "source": [
    "Ans-"
   ]
  },
  {
   "cell_type": "markdown",
   "id": "577d9a48-97ac-49c8-9935-adc28a3e624c",
   "metadata": {},
   "source": [
    "variables are used to put and refer the data.Variable take a value and we can give it a name to access that value in program.here's some example:"
   ]
  },
  {
   "cell_type": "code",
   "execution_count": 32,
   "id": "7cf34d4d-a610-491e-9d5d-30b8183af292",
   "metadata": {},
   "outputs": [],
   "source": [
    "my_message = \"Hello, Osama\""
   ]
  },
  {
   "cell_type": "markdown",
   "id": "2be7e14b-0c9a-40d6-b1c4-cb5c47e48303",
   "metadata": {},
   "source": [
    "right hand side which is assign the value,variable on the left hand side"
   ]
  },
  {
   "cell_type": "markdown",
   "id": "fdf45b7d-e3ab-4d17-bd28-90ce1024813c",
   "metadata": {},
   "source": [
    "reassigning different value"
   ]
  },
  {
   "cell_type": "code",
   "execution_count": 33,
   "id": "b0330a30-edc5-4e90-afe6-35dcdc8deb10",
   "metadata": {},
   "outputs": [],
   "source": [
    "my_message = \"Hello, Osama\""
   ]
  },
  {
   "cell_type": "code",
   "execution_count": 34,
   "id": "553cbb1c-3432-463b-9c72-1dc3fa52b95b",
   "metadata": {},
   "outputs": [],
   "source": [
    "my_message = \"Hello, everyone\""
   ]
  },
  {
   "cell_type": "markdown",
   "id": "61bd6694-9c49-4b5e-b226-22aac462d1b2",
   "metadata": {},
   "source": [
    "Q3. How do you convert one data type to another in Python?"
   ]
  },
  {
   "cell_type": "markdown",
   "id": "e4b78ba5-565d-40b1-be1c-b717ea50b87d",
   "metadata": {},
   "source": [
    "Ans-"
   ]
  },
  {
   "cell_type": "markdown",
   "id": "239be420-f844-437c-bfde-d58219ed6a22",
   "metadata": {},
   "source": [
    "some example for coverting data types to another:"
   ]
  },
  {
   "cell_type": "markdown",
   "id": "5ba59b75-effe-4fdd-9f56-f5a6103ecaa7",
   "metadata": {},
   "source": [
    "(1)str to Floating point conversion "
   ]
  },
  {
   "cell_type": "code",
   "execution_count": 35,
   "id": "f0319b5a-e585-48c3-b1c3-86db19fc89ef",
   "metadata": {},
   "outputs": [],
   "source": [
    "n_string = \"22.2\"\n",
    "n_string = float(n_string)"
   ]
  },
  {
   "cell_type": "code",
   "execution_count": 36,
   "id": "810d3d05-c03e-4444-be7d-f78a8a372bfd",
   "metadata": {},
   "outputs": [
    {
     "data": {
      "text/plain": [
       "22.2"
      ]
     },
     "execution_count": 36,
     "metadata": {},
     "output_type": "execute_result"
    }
   ],
   "source": [
    "n_string"
   ]
  },
  {
   "cell_type": "code",
   "execution_count": 37,
   "id": "00b847ba-67e0-49b7-881d-b4198bc521ee",
   "metadata": {},
   "outputs": [
    {
     "data": {
      "text/plain": [
       "float"
      ]
     },
     "execution_count": 37,
     "metadata": {},
     "output_type": "execute_result"
    }
   ],
   "source": [
    "type(n_string)"
   ]
  },
  {
   "cell_type": "markdown",
   "id": "15127512-f5be-452d-bfb6-a56fa0b99608",
   "metadata": {},
   "source": [
    "(2)String Int conversion"
   ]
  },
  {
   "cell_type": "code",
   "execution_count": 38,
   "id": "36e18952-904a-4efa-8236-9da201bcb4ed",
   "metadata": {},
   "outputs": [],
   "source": [
    "n_str = \"9889\"\n",
    "n_str = int(n_str)"
   ]
  },
  {
   "cell_type": "code",
   "execution_count": 39,
   "id": "6f55d5f3-752a-4509-9cc4-9de55f2fc369",
   "metadata": {},
   "outputs": [
    {
     "data": {
      "text/plain": [
       "9889"
      ]
     },
     "execution_count": 39,
     "metadata": {},
     "output_type": "execute_result"
    }
   ],
   "source": [
    "n_str"
   ]
  },
  {
   "cell_type": "code",
   "execution_count": 40,
   "id": "f8b05843-44ab-4215-9364-917c1f2881d6",
   "metadata": {},
   "outputs": [
    {
     "data": {
      "text/plain": [
       "int"
      ]
     },
     "execution_count": 40,
     "metadata": {},
     "output_type": "execute_result"
    }
   ],
   "source": [
    "type(n_str)"
   ]
  },
  {
   "cell_type": "markdown",
   "id": "1f9e5aac-0a80-42c0-88c9-0fed80d63563",
   "metadata": {},
   "source": [
    "(3)Int to String conversion"
   ]
  },
  {
   "cell_type": "code",
   "execution_count": 41,
   "id": "a6fd94a4-1dc6-4ec8-b7e2-ca2b53e02762",
   "metadata": {},
   "outputs": [],
   "source": [
    "n_int = 78\n",
    "n_int = str(n_int)"
   ]
  },
  {
   "cell_type": "code",
   "execution_count": 42,
   "id": "33effc03-251c-4737-8793-54ab4fda767d",
   "metadata": {},
   "outputs": [
    {
     "data": {
      "text/plain": [
       "'78'"
      ]
     },
     "execution_count": 42,
     "metadata": {},
     "output_type": "execute_result"
    }
   ],
   "source": [
    "n_int"
   ]
  },
  {
   "cell_type": "code",
   "execution_count": 43,
   "id": "a5bc5aa7-f17d-4b12-a666-d44ba401d48e",
   "metadata": {},
   "outputs": [
    {
     "data": {
      "text/plain": [
       "str"
      ]
     },
     "execution_count": 43,
     "metadata": {},
     "output_type": "execute_result"
    }
   ],
   "source": [
    "type(n_int)"
   ]
  },
  {
   "cell_type": "markdown",
   "id": "5e7bd549-f8b9-428b-b9ae-343ac4a8d57b",
   "metadata": {},
   "source": [
    "(4)dict to list conversion"
   ]
  },
  {
   "cell_type": "code",
   "execution_count": 44,
   "id": "2c430ed6-33e8-4a37-aa21-056549254a16",
   "metadata": {},
   "outputs": [],
   "source": [
    "my_dict = {1,2,4}\n",
    "my_dict = list(my_dict)"
   ]
  },
  {
   "cell_type": "code",
   "execution_count": 45,
   "id": "0fb3093f-17fa-43a2-9fe3-6d60aa044649",
   "metadata": {},
   "outputs": [
    {
     "data": {
      "text/plain": [
       "[1, 2, 4]"
      ]
     },
     "execution_count": 45,
     "metadata": {},
     "output_type": "execute_result"
    }
   ],
   "source": [
    "my_dict"
   ]
  },
  {
   "cell_type": "markdown",
   "id": "818979fe-d9e7-4523-904d-3970bb01d564",
   "metadata": {},
   "source": [
    "Q4.How do you write and execute a Python script from the command line?"
   ]
  },
  {
   "cell_type": "markdown",
   "id": "f4dc13f8-1040-447a-be73-c802b046dedd",
   "metadata": {},
   "source": [
    "Ans-"
   ]
  },
  {
   "cell_type": "markdown",
   "id": "602fdf9b-0f5d-4df1-bd78-37157aec4bd0",
   "metadata": {},
   "source": [
    "Create a new file with a .py extension, e.g., script.py.\n",
    "Open the file in a text editor and write your Python code.\n",
    "Save the file.\n",
    "Open the command line interface.\n",
    "Navigate to the directory where the Python script is saved.\n",
    "Run the script by typing python script.py and press Enter."
   ]
  },
  {
   "cell_type": "markdown",
   "id": "04bc62fe-151f-432c-97cd-1bb65d5929c0",
   "metadata": {},
   "source": [
    "Q5. Given a list my_list = [1, 2, 3, 4, 5], write the code to slice the list and obtain the sub-list [2, 3]."
   ]
  },
  {
   "cell_type": "markdown",
   "id": "d65cd0cb-6341-499d-b44c-4ddcac712d43",
   "metadata": {},
   "source": [
    "Ans-"
   ]
  },
  {
   "cell_type": "code",
   "execution_count": 47,
   "id": "48d5a522-636a-4a5d-9d28-c9abff7b082d",
   "metadata": {},
   "outputs": [],
   "source": [
    "my_list = [1,2,3,4,5]\n",
    "sub_list = my_list[1:3]"
   ]
  },
  {
   "cell_type": "code",
   "execution_count": 46,
   "id": "488adc9d-c8d7-4d2c-8572-ef7d29579bdb",
   "metadata": {},
   "outputs": [
    {
     "data": {
      "text/plain": [
       "list"
      ]
     },
     "execution_count": 46,
     "metadata": {},
     "output_type": "execute_result"
    }
   ],
   "source": [
    "type(my_dict)"
   ]
  },
  {
   "cell_type": "code",
   "execution_count": 48,
   "id": "b2d57f77-dee1-4dfe-bf15-ab1823b5287b",
   "metadata": {},
   "outputs": [
    {
     "data": {
      "text/plain": [
       "[2, 3]"
      ]
     },
     "execution_count": 48,
     "metadata": {},
     "output_type": "execute_result"
    }
   ],
   "source": [
    "sub_list"
   ]
  },
  {
   "cell_type": "markdown",
   "id": "f141d904-b5ed-4252-900b-00e8a3732d32",
   "metadata": {},
   "source": [
    "Q6. What is a complex number in mathematics, and how is it represented in Python?"
   ]
  },
  {
   "cell_type": "markdown",
   "id": "a0ecf1d2-10c6-44d0-b563-6c0d9054788f",
   "metadata": {},
   "source": [
    "Ans-"
   ]
  },
  {
   "cell_type": "markdown",
   "id": "91cc050a-8493-4a9b-9045-d52adc64c246",
   "metadata": {},
   "source": [
    "in mathematics complex number \n",
    "example -\n",
    "a+bi \n",
    "a and b = Real number\n",
    "i is imaginary number"
   ]
  },
  {
   "cell_type": "markdown",
   "id": "e0ed20ee-7fcc-456c-ab44-4198fb58089b",
   "metadata": {},
   "source": [
    "In pyhon-\n",
    "a+bj, where a represent real, b represent imaginary part,\n",
    "the specific using the symbol 'j' or 'J'in imaginary part.\n",
    "ex-"
   ]
  },
  {
   "cell_type": "code",
   "execution_count": 49,
   "id": "1d14098b-212a-4ffe-9f20-33ad9267debf",
   "metadata": {},
   "outputs": [],
   "source": [
    "y = 3+4j"
   ]
  },
  {
   "cell_type": "markdown",
   "id": "f232f611-431a-45ac-bd5b-eb39fe4b2045",
   "metadata": {},
   "source": [
    "you can access the real and imaginary part of complex by the use of 'real' and 'imag'"
   ]
  },
  {
   "cell_type": "code",
   "execution_count": 50,
   "id": "8c471c80-5184-4342-8371-cae6198c3921",
   "metadata": {},
   "outputs": [
    {
     "data": {
      "text/plain": [
       "3.0"
      ]
     },
     "execution_count": 50,
     "metadata": {},
     "output_type": "execute_result"
    }
   ],
   "source": [
    "y.real"
   ]
  },
  {
   "cell_type": "code",
   "execution_count": 51,
   "id": "62bd6eb7-96d8-48c8-9693-92eeb49ce2c8",
   "metadata": {},
   "outputs": [
    {
     "data": {
      "text/plain": [
       "4.0"
      ]
     },
     "execution_count": 51,
     "metadata": {},
     "output_type": "execute_result"
    }
   ],
   "source": [
    "y.imag"
   ]
  },
  {
   "cell_type": "code",
   "execution_count": 52,
   "id": "7c69f07b-a0d7-4092-8cf7-4c0d3129a5f0",
   "metadata": {},
   "outputs": [],
   "source": [
    "l =3+6j\n",
    "l1 = 4+6j"
   ]
  },
  {
   "cell_type": "code",
   "execution_count": 53,
   "id": "a6260459-5338-4000-a0ea-b1b9fef61722",
   "metadata": {},
   "outputs": [
    {
     "name": "stdout",
     "output_type": "stream",
     "text": [
      "(7+12j)\n"
     ]
    }
   ],
   "source": [
    "# addition\n",
    "my_add=l+l1\n",
    "print(my_add)"
   ]
  },
  {
   "cell_type": "code",
   "execution_count": 54,
   "id": "df645d92-3d0d-4640-aee7-d51c38c74d8b",
   "metadata": {},
   "outputs": [
    {
     "name": "stdout",
     "output_type": "stream",
     "text": [
      "(-24+42j)\n"
     ]
    }
   ],
   "source": [
    "# multiplication\n",
    "my_multi=l*l1\n",
    "print(my_multi)"
   ]
  },
  {
   "cell_type": "markdown",
   "id": "a3c54f9e-123c-4d85-8aff-0b2e13de3bd4",
   "metadata": {},
   "source": [
    "Q7. What is the correct way to declare a variable named age and assign the value 25 to it?"
   ]
  },
  {
   "cell_type": "markdown",
   "id": "90ffd8e5-a6d3-4d43-84c4-9e92085947ad",
   "metadata": {},
   "source": [
    "Ans-"
   ]
  },
  {
   "cell_type": "markdown",
   "id": "57e828be-2a1f-41f1-8651-cda6b3156013",
   "metadata": {},
   "source": [
    "Using assignment operator '='"
   ]
  },
  {
   "cell_type": "code",
   "execution_count": 56,
   "id": "56b47e71-5bd5-4dff-84ea-15c87d7eac16",
   "metadata": {},
   "outputs": [],
   "source": [
    "age = 25"
   ]
  },
  {
   "cell_type": "markdown",
   "id": "338206fb-d5ea-40de-bb67-cb6b35039d3b",
   "metadata": {},
   "source": [
    "Q8. Declare a variable named price and assign the value 9.99 to it. What data type does this variable\n",
    "belong to?"
   ]
  },
  {
   "cell_type": "markdown",
   "id": "3b873dde-76f4-448f-9e8d-a77ba3637aa9",
   "metadata": {},
   "source": [
    "Ans-"
   ]
  },
  {
   "cell_type": "code",
   "execution_count": 57,
   "id": "cf53753c-c24c-4384-ac51-a231ca9cce77",
   "metadata": {},
   "outputs": [],
   "source": [
    "price = 99.9"
   ]
  },
  {
   "cell_type": "code",
   "execution_count": 58,
   "id": "53a3b890-a492-43c7-aa6a-19d4faf34129",
   "metadata": {},
   "outputs": [
    {
     "data": {
      "text/plain": [
       "float"
      ]
     },
     "execution_count": 58,
     "metadata": {},
     "output_type": "execute_result"
    }
   ],
   "source": [
    "type(price)"
   ]
  },
  {
   "cell_type": "markdown",
   "id": "7524541c-b6ca-4fe5-8e6a-ea589c4fa329",
   "metadata": {},
   "source": [
    "this variable belongs to float data type"
   ]
  },
  {
   "cell_type": "markdown",
   "id": "57e6f0cb-7c00-4a7a-8e71-2613660bb855",
   "metadata": {},
   "source": [
    "Q9. Create a variable named name and assign your full name to it as a string. How would you print the\n",
    "value of this variable?"
   ]
  },
  {
   "cell_type": "markdown",
   "id": "2ae5ea43-fd0e-4139-8a06-20200d44d507",
   "metadata": {},
   "source": [
    "Ans-"
   ]
  },
  {
   "cell_type": "code",
   "execution_count": 60,
   "id": "efdfceed-280c-4b11-a1fa-4dcdd6d23fcd",
   "metadata": {},
   "outputs": [],
   "source": [
    "name = \"Mohd Osama\""
   ]
  },
  {
   "cell_type": "code",
   "execution_count": 61,
   "id": "3bc7e6a2-c529-4617-854b-f198289aacb2",
   "metadata": {},
   "outputs": [
    {
     "name": "stdout",
     "output_type": "stream",
     "text": [
      "Mohd Osama\n"
     ]
    }
   ],
   "source": [
    "print(name)"
   ]
  },
  {
   "cell_type": "markdown",
   "id": "9f69820b-490a-4257-a871-984be9820728",
   "metadata": {},
   "source": [
    "Q10. Given the string \"Hello, World!\", extract the substring \"World\"."
   ]
  },
  {
   "cell_type": "markdown",
   "id": "692cff36-7192-4edd-b567-8b5cc15a77ee",
   "metadata": {},
   "source": [
    "Ans-"
   ]
  },
  {
   "cell_type": "code",
   "execution_count": 65,
   "id": "06847186-c97d-402b-bd74-adc354eb6506",
   "metadata": {},
   "outputs": [],
   "source": [
    "string =\"hello , world\"\n",
    "substring=string[8:15]\n"
   ]
  },
  {
   "cell_type": "code",
   "execution_count": 66,
   "id": "094f8c3f-57ff-485f-b765-c770c53932d7",
   "metadata": {},
   "outputs": [
    {
     "name": "stdout",
     "output_type": "stream",
     "text": [
      "world\n"
     ]
    }
   ],
   "source": [
    "print(substring)"
   ]
  },
  {
   "cell_type": "markdown",
   "id": "3541a56c-277f-4067-8ba6-5868d2d9316b",
   "metadata": {},
   "source": [
    "Q11. Create a variable named \"is_student\" and assign it a boolean value indicating whether you are\n",
    "currently a student or not."
   ]
  },
  {
   "cell_type": "markdown",
   "id": "e5966cbf-3ea9-4628-a2fb-4fee002bf37d",
   "metadata": {},
   "source": [
    "Ans-"
   ]
  },
  {
   "cell_type": "code",
   "execution_count": null,
   "id": "66d54d60-a56f-49a7-a858-1cea2bf0dbba",
   "metadata": {},
   "outputs": [],
   "source": [
    "# if you are a student\n",
    "is_student=True\n",
    "# if you are not student\n",
    "is_student=False"
   ]
  },
  {
   "cell_type": "code",
   "execution_count": 2,
   "id": "adbd84ce",
   "metadata": {
    "ExecuteTime": {
     "end_time": "2023-06-24T16:12:00.397470Z",
     "start_time": "2023-06-24T16:11:57.725593Z"
    }
   },
   "outputs": [
    {
     "name": "stdin",
     "output_type": "stream",
     "text": [
      "Are you currently a student?  yes\n"
     ]
    },
    {
     "name": "stdout",
     "output_type": "stream",
     "text": [
      "You are not currently a student\n"
     ]
    }
   ],
   "source": [
    "is_student = input(\"Are you currently a student? \")\n",
    "\n",
    "if is_student == 'Yes':\n",
    "    print(\"You are currently a student\")\n",
    "else:\n",
    "    print(\"You are not currently a student\")"
   ]
  },
  {
   "cell_type": "code",
   "execution_count": null,
   "id": "3b170492-e9f5-4997-814e-c755fc0b852a",
   "metadata": {},
   "outputs": [],
   "source": []
  }
 ],
 "metadata": {
  "kernelspec": {
   "display_name": "Python 3 (ipykernel)",
   "language": "python",
   "name": "python3"
  },
  "language_info": {
   "codemirror_mode": {
    "name": "ipython",
    "version": 3
   },
   "file_extension": ".py",
   "mimetype": "text/x-python",
   "name": "python",
   "nbconvert_exporter": "python",
   "pygments_lexer": "ipython3",
   "version": "3.10.8"
  },
  "latex_envs": {
   "LaTeX_envs_menu_present": true,
   "autoclose": false,
   "autocomplete": true,
   "bibliofile": "biblio.bib",
   "cite_by": "apalike",
   "current_citInitial": 1,
   "eqLabelWithNumbers": true,
   "eqNumInitial": 1,
   "hotkeys": {
    "equation": "Ctrl-E",
    "itemize": "Ctrl-I"
   },
   "labels_anchors": false,
   "latex_user_defs": false,
   "report_style_numbering": false,
   "user_envs_cfg": false
  },
  "nbTranslate": {
   "displayLangs": [
    "*"
   ],
   "hotkey": "alt-t",
   "langInMainMenu": true,
   "sourceLang": "en",
   "targetLang": "fr",
   "useGoogleTranslate": true
  },
  "toc": {
   "base_numbering": 1,
   "nav_menu": {},
   "number_sections": true,
   "sideBar": true,
   "skip_h1_title": false,
   "title_cell": "Table of Contents",
   "title_sidebar": "Contents",
   "toc_cell": false,
   "toc_position": {},
   "toc_section_display": true,
   "toc_window_display": false
  },
  "varInspector": {
   "cols": {
    "lenName": 16,
    "lenType": 16,
    "lenVar": 40
   },
   "kernels_config": {
    "python": {
     "delete_cmd_postfix": "",
     "delete_cmd_prefix": "del ",
     "library": "var_list.py",
     "varRefreshCmd": "print(var_dic_list())"
    },
    "r": {
     "delete_cmd_postfix": ") ",
     "delete_cmd_prefix": "rm(",
     "library": "var_list.r",
     "varRefreshCmd": "cat(var_dic_list()) "
    }
   },
   "types_to_exclude": [
    "module",
    "function",
    "builtin_function_or_method",
    "instance",
    "_Feature"
   ],
   "window_display": false
  }
 },
 "nbformat": 4,
 "nbformat_minor": 5
}
